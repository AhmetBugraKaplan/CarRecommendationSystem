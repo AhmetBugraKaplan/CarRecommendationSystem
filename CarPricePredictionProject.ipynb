{
 "cells": [
  {
   "cell_type": "code",
   "execution_count": 1,
   "id": "9026f0a8-e9b6-45d0-84aa-813a4b39e225",
   "metadata": {},
   "outputs": [],
   "source": [
    "import pandas as pd \n",
    "import numpy as np\n",
    "import seaborn as sns\n",
    "import matplotlib.pyplot as plt\n",
    "import warnings\n",
    "\n",
    "warnings.filterwarnings(\"ignore\")"
   ]
  },
  {
   "cell_type": "code",
   "execution_count": 2,
   "id": "b1f132fb-f710-4ee2-b181-4ce4418f5021",
   "metadata": {},
   "outputs": [],
   "source": [
    "df_clean = pd.read_csv('cars.csv')"
   ]
  },
  {
   "cell_type": "code",
   "execution_count": 3,
   "id": "13569f10-9d4b-49ca-adf4-36e408f9665a",
   "metadata": {},
   "outputs": [],
   "source": [
    "df = df_clean.copy()"
   ]
  },
  {
   "cell_type": "code",
   "execution_count": 4,
   "id": "3e2c56a1-3c66-4936-a37d-0682452f4635",
   "metadata": {},
   "outputs": [
    {
     "data": {
      "text/html": [
       "<div>\n",
       "<style scoped>\n",
       "    .dataframe tbody tr th:only-of-type {\n",
       "        vertical-align: middle;\n",
       "    }\n",
       "\n",
       "    .dataframe tbody tr th {\n",
       "        vertical-align: top;\n",
       "    }\n",
       "\n",
       "    .dataframe thead th {\n",
       "        text-align: right;\n",
       "    }\n",
       "</style>\n",
       "<table border=\"1\" class=\"dataframe\">\n",
       "  <thead>\n",
       "    <tr style=\"text-align: right;\">\n",
       "      <th></th>\n",
       "      <th>id</th>\n",
       "      <th>url</th>\n",
       "      <th>region</th>\n",
       "      <th>region_url</th>\n",
       "      <th>price</th>\n",
       "      <th>year</th>\n",
       "      <th>manufacturer</th>\n",
       "      <th>model</th>\n",
       "      <th>condition</th>\n",
       "      <th>cylinders</th>\n",
       "      <th>...</th>\n",
       "      <th>size</th>\n",
       "      <th>type</th>\n",
       "      <th>paint_color</th>\n",
       "      <th>image_url</th>\n",
       "      <th>description</th>\n",
       "      <th>county</th>\n",
       "      <th>state</th>\n",
       "      <th>lat</th>\n",
       "      <th>long</th>\n",
       "      <th>posting_date</th>\n",
       "    </tr>\n",
       "  </thead>\n",
       "  <tbody>\n",
       "    <tr>\n",
       "      <th>0</th>\n",
       "      <td>7222695916</td>\n",
       "      <td>https://prescott.craigslist.org/cto/d/prescott...</td>\n",
       "      <td>prescott</td>\n",
       "      <td>https://prescott.craigslist.org</td>\n",
       "      <td>6000</td>\n",
       "      <td>NaN</td>\n",
       "      <td>NaN</td>\n",
       "      <td>NaN</td>\n",
       "      <td>NaN</td>\n",
       "      <td>NaN</td>\n",
       "      <td>...</td>\n",
       "      <td>NaN</td>\n",
       "      <td>NaN</td>\n",
       "      <td>NaN</td>\n",
       "      <td>NaN</td>\n",
       "      <td>NaN</td>\n",
       "      <td>NaN</td>\n",
       "      <td>az</td>\n",
       "      <td>NaN</td>\n",
       "      <td>NaN</td>\n",
       "      <td>NaN</td>\n",
       "    </tr>\n",
       "    <tr>\n",
       "      <th>1</th>\n",
       "      <td>7218891961</td>\n",
       "      <td>https://fayar.craigslist.org/ctd/d/bentonville...</td>\n",
       "      <td>fayetteville</td>\n",
       "      <td>https://fayar.craigslist.org</td>\n",
       "      <td>11900</td>\n",
       "      <td>NaN</td>\n",
       "      <td>NaN</td>\n",
       "      <td>NaN</td>\n",
       "      <td>NaN</td>\n",
       "      <td>NaN</td>\n",
       "      <td>...</td>\n",
       "      <td>NaN</td>\n",
       "      <td>NaN</td>\n",
       "      <td>NaN</td>\n",
       "      <td>NaN</td>\n",
       "      <td>NaN</td>\n",
       "      <td>NaN</td>\n",
       "      <td>ar</td>\n",
       "      <td>NaN</td>\n",
       "      <td>NaN</td>\n",
       "      <td>NaN</td>\n",
       "    </tr>\n",
       "    <tr>\n",
       "      <th>2</th>\n",
       "      <td>7221797935</td>\n",
       "      <td>https://keys.craigslist.org/cto/d/summerland-k...</td>\n",
       "      <td>florida keys</td>\n",
       "      <td>https://keys.craigslist.org</td>\n",
       "      <td>21000</td>\n",
       "      <td>NaN</td>\n",
       "      <td>NaN</td>\n",
       "      <td>NaN</td>\n",
       "      <td>NaN</td>\n",
       "      <td>NaN</td>\n",
       "      <td>...</td>\n",
       "      <td>NaN</td>\n",
       "      <td>NaN</td>\n",
       "      <td>NaN</td>\n",
       "      <td>NaN</td>\n",
       "      <td>NaN</td>\n",
       "      <td>NaN</td>\n",
       "      <td>fl</td>\n",
       "      <td>NaN</td>\n",
       "      <td>NaN</td>\n",
       "      <td>NaN</td>\n",
       "    </tr>\n",
       "    <tr>\n",
       "      <th>3</th>\n",
       "      <td>7222270760</td>\n",
       "      <td>https://worcester.craigslist.org/cto/d/west-br...</td>\n",
       "      <td>worcester / central MA</td>\n",
       "      <td>https://worcester.craigslist.org</td>\n",
       "      <td>1500</td>\n",
       "      <td>NaN</td>\n",
       "      <td>NaN</td>\n",
       "      <td>NaN</td>\n",
       "      <td>NaN</td>\n",
       "      <td>NaN</td>\n",
       "      <td>...</td>\n",
       "      <td>NaN</td>\n",
       "      <td>NaN</td>\n",
       "      <td>NaN</td>\n",
       "      <td>NaN</td>\n",
       "      <td>NaN</td>\n",
       "      <td>NaN</td>\n",
       "      <td>ma</td>\n",
       "      <td>NaN</td>\n",
       "      <td>NaN</td>\n",
       "      <td>NaN</td>\n",
       "    </tr>\n",
       "    <tr>\n",
       "      <th>4</th>\n",
       "      <td>7210384030</td>\n",
       "      <td>https://greensboro.craigslist.org/cto/d/trinit...</td>\n",
       "      <td>greensboro</td>\n",
       "      <td>https://greensboro.craigslist.org</td>\n",
       "      <td>4900</td>\n",
       "      <td>NaN</td>\n",
       "      <td>NaN</td>\n",
       "      <td>NaN</td>\n",
       "      <td>NaN</td>\n",
       "      <td>NaN</td>\n",
       "      <td>...</td>\n",
       "      <td>NaN</td>\n",
       "      <td>NaN</td>\n",
       "      <td>NaN</td>\n",
       "      <td>NaN</td>\n",
       "      <td>NaN</td>\n",
       "      <td>NaN</td>\n",
       "      <td>nc</td>\n",
       "      <td>NaN</td>\n",
       "      <td>NaN</td>\n",
       "      <td>NaN</td>\n",
       "    </tr>\n",
       "  </tbody>\n",
       "</table>\n",
       "<p>5 rows × 26 columns</p>\n",
       "</div>"
      ],
      "text/plain": [
       "           id                                                url  \\\n",
       "0  7222695916  https://prescott.craigslist.org/cto/d/prescott...   \n",
       "1  7218891961  https://fayar.craigslist.org/ctd/d/bentonville...   \n",
       "2  7221797935  https://keys.craigslist.org/cto/d/summerland-k...   \n",
       "3  7222270760  https://worcester.craigslist.org/cto/d/west-br...   \n",
       "4  7210384030  https://greensboro.craigslist.org/cto/d/trinit...   \n",
       "\n",
       "                   region                         region_url  price  year  \\\n",
       "0                prescott    https://prescott.craigslist.org   6000   NaN   \n",
       "1            fayetteville       https://fayar.craigslist.org  11900   NaN   \n",
       "2            florida keys        https://keys.craigslist.org  21000   NaN   \n",
       "3  worcester / central MA   https://worcester.craigslist.org   1500   NaN   \n",
       "4              greensboro  https://greensboro.craigslist.org   4900   NaN   \n",
       "\n",
       "  manufacturer model condition cylinders  ... size  type paint_color  \\\n",
       "0          NaN   NaN       NaN       NaN  ...  NaN   NaN         NaN   \n",
       "1          NaN   NaN       NaN       NaN  ...  NaN   NaN         NaN   \n",
       "2          NaN   NaN       NaN       NaN  ...  NaN   NaN         NaN   \n",
       "3          NaN   NaN       NaN       NaN  ...  NaN   NaN         NaN   \n",
       "4          NaN   NaN       NaN       NaN  ...  NaN   NaN         NaN   \n",
       "\n",
       "  image_url description county state lat long posting_date  \n",
       "0       NaN         NaN    NaN    az NaN  NaN          NaN  \n",
       "1       NaN         NaN    NaN    ar NaN  NaN          NaN  \n",
       "2       NaN         NaN    NaN    fl NaN  NaN          NaN  \n",
       "3       NaN         NaN    NaN    ma NaN  NaN          NaN  \n",
       "4       NaN         NaN    NaN    nc NaN  NaN          NaN  \n",
       "\n",
       "[5 rows x 26 columns]"
      ]
     },
     "execution_count": 4,
     "metadata": {},
     "output_type": "execute_result"
    }
   ],
   "source": [
    "df.head()"
   ]
  },
  {
   "cell_type": "code",
   "execution_count": 5,
   "id": "30c42625-c1fc-4ef7-8f78-e57da29ae3f8",
   "metadata": {},
   "outputs": [
    {
     "data": {
      "text/plain": [
       "(426880, 26)"
      ]
     },
     "execution_count": 5,
     "metadata": {},
     "output_type": "execute_result"
    }
   ],
   "source": [
    "df.shape"
   ]
  },
  {
   "cell_type": "code",
   "execution_count": 6,
   "id": "c2aabf10-a9a1-43b3-a976-85ff4348d156",
   "metadata": {},
   "outputs": [],
   "source": [
    "df.drop_duplicates(inplace=True)"
   ]
  },
  {
   "cell_type": "code",
   "execution_count": 7,
   "id": "d8a32b1d-9e17-4dd5-a452-ba1a994a943f",
   "metadata": {},
   "outputs": [
    {
     "data": {
      "text/plain": [
       "(426880, 26)"
      ]
     },
     "execution_count": 7,
     "metadata": {},
     "output_type": "execute_result"
    }
   ],
   "source": [
    "df.shape"
   ]
  },
  {
   "cell_type": "code",
   "execution_count": 8,
   "id": "96d896f1-665c-40d0-86c5-bdf864934296",
   "metadata": {},
   "outputs": [
    {
     "data": {
      "text/plain": [
       "id              426880\n",
       "url             426880\n",
       "region             404\n",
       "region_url         413\n",
       "price            15655\n",
       "year               114\n",
       "manufacturer        42\n",
       "model            29667\n",
       "condition            6\n",
       "cylinders            8\n",
       "fuel                 5\n",
       "odometer        104870\n",
       "title_status         6\n",
       "transmission         3\n",
       "VIN             118264\n",
       "drive                3\n",
       "size                 4\n",
       "type                13\n",
       "paint_color         12\n",
       "image_url       241899\n",
       "description     360911\n",
       "county               0\n",
       "state               51\n",
       "lat              53181\n",
       "long             53772\n",
       "posting_date    381536\n",
       "dtype: int64"
      ]
     },
     "execution_count": 8,
     "metadata": {},
     "output_type": "execute_result"
    }
   ],
   "source": [
    "df.nunique()"
   ]
  },
  {
   "cell_type": "code",
   "execution_count": 9,
   "id": "3d389408-5e2e-465a-b2f9-66a5d163c9c1",
   "metadata": {},
   "outputs": [],
   "source": [
    "#Öncelikle model için önemli olmayan sütunları df den çıkarıcaz."
   ]
  },
  {
   "cell_type": "code",
   "execution_count": 10,
   "id": "407fd5ad-9726-430d-a44d-93cd12fbda07",
   "metadata": {},
   "outputs": [],
   "source": [
    "drop_columns = {\"id\",\"url\",\"region\",\"region_url\",\"VIN\",\"image_url\",\"description\",\"lat\",\"long\",\"posting_date\",\"county\",\"state\",\"model\",\"size\",\"paint_color\"}\n",
    "\n",
    "df.drop(columns=drop_columns,axis=1,inplace=True)"
   ]
  },
  {
   "cell_type": "code",
   "execution_count": 11,
   "id": "5f04edce-170f-4d90-bca0-1c753b92867d",
   "metadata": {},
   "outputs": [
    {
     "name": "stdout",
     "output_type": "stream",
     "text": [
      "<class 'pandas.core.frame.DataFrame'>\n",
      "RangeIndex: 426880 entries, 0 to 426879\n",
      "Data columns (total 11 columns):\n",
      " #   Column        Non-Null Count   Dtype  \n",
      "---  ------        --------------   -----  \n",
      " 0   price         426880 non-null  int64  \n",
      " 1   year          425675 non-null  float64\n",
      " 2   manufacturer  409234 non-null  object \n",
      " 3   condition     252776 non-null  object \n",
      " 4   cylinders     249202 non-null  object \n",
      " 5   fuel          423867 non-null  object \n",
      " 6   odometer      422480 non-null  float64\n",
      " 7   title_status  418638 non-null  object \n",
      " 8   transmission  424324 non-null  object \n",
      " 9   drive         296313 non-null  object \n",
      " 10  type          334022 non-null  object \n",
      "dtypes: float64(2), int64(1), object(8)\n",
      "memory usage: 35.8+ MB\n"
     ]
    }
   ],
   "source": [
    "df.info()"
   ]
  },
  {
   "cell_type": "code",
   "execution_count": 12,
   "id": "bd957aac-3685-40b2-812c-28535ae3a300",
   "metadata": {
    "scrolled": true
   },
   "outputs": [
    {
     "name": "stdout",
     "output_type": "stream",
     "text": [
      "kolon ismi :price -- uniuqe veri sayısı:15655\n",
      " uniuqe verileri: [ 6000 11900 21000 ...  6328 19853 17873]\n",
      "**********************************************\n",
      "kolon ismi :year -- uniuqe veri sayısı:114\n",
      " uniuqe verileri: [  nan 2014. 2010. 2020. 2017. 2013. 2012. 2016. 2019. 2011. 1992. 2018.\n",
      " 2004. 2015. 2001. 2006. 1968. 2003. 2008. 2007. 2005. 1966. 2009. 1998.\n",
      " 2002. 1999. 2021. 1997. 1976. 1969. 1995. 1978. 1954. 1979. 1970. 1974.\n",
      " 1996. 1987. 2000. 1955. 1960. 1991. 1972. 1988. 1994. 1929. 1984. 1986.\n",
      " 1989. 1973. 1946. 1933. 1958. 1937. 1985. 1957. 1953. 1942. 1963. 1977.\n",
      " 1993. 1903. 1990. 1965. 1982. 1948. 1983. 1936. 1932. 1951. 1931. 1980.\n",
      " 1967. 1971. 1947. 1981. 1926. 1962. 1975. 1964. 1934. 1952. 1940. 1959.\n",
      " 1950. 1930. 1956. 1922. 1928. 2022. 1901. 1941. 1924. 1927. 1939. 1923.\n",
      " 1949. 1961. 1935. 1918. 1900. 1938. 1913. 1916. 1943. 1925. 1921. 1915.\n",
      " 1945. 1902. 1905. 1920. 1944. 1910. 1909.]\n",
      "**********************************************\n",
      "kolon ismi :manufacturer -- uniuqe veri sayısı:42\n",
      " uniuqe verileri: [nan 'gmc' 'chevrolet' 'toyota' 'ford' 'jeep' 'nissan' 'ram' 'mazda'\n",
      " 'cadillac' 'honda' 'dodge' 'lexus' 'jaguar' 'buick' 'chrysler' 'volvo'\n",
      " 'audi' 'infiniti' 'lincoln' 'alfa-romeo' 'subaru' 'acura' 'hyundai'\n",
      " 'mercedes-benz' 'bmw' 'mitsubishi' 'volkswagen' 'porsche' 'kia' 'rover'\n",
      " 'ferrari' 'mini' 'pontiac' 'fiat' 'tesla' 'saturn' 'mercury'\n",
      " 'harley-davidson' 'datsun' 'aston-martin' 'land rover' 'morgan']\n",
      "**********************************************\n",
      "kolon ismi :condition -- uniuqe veri sayısı:6\n",
      " uniuqe verileri: [nan 'good' 'excellent' 'fair' 'like new' 'new' 'salvage']\n",
      "**********************************************\n",
      "kolon ismi :cylinders -- uniuqe veri sayısı:8\n",
      " uniuqe verileri: [nan '8 cylinders' '6 cylinders' '4 cylinders' '5 cylinders' 'other'\n",
      " '3 cylinders' '10 cylinders' '12 cylinders']\n",
      "**********************************************\n",
      "kolon ismi :fuel -- uniuqe veri sayısı:5\n",
      " uniuqe verileri: [nan 'gas' 'other' 'diesel' 'hybrid' 'electric']\n",
      "**********************************************\n",
      "kolon ismi :odometer -- uniuqe veri sayısı:104870\n",
      " uniuqe verileri: [    nan  57923.  71229. ... 172511.  94964.  26892.]\n",
      "**********************************************\n",
      "kolon ismi :title_status -- uniuqe veri sayısı:6\n",
      " uniuqe verileri: [nan 'clean' 'rebuilt' 'lien' 'salvage' 'missing' 'parts only']\n",
      "**********************************************\n",
      "kolon ismi :transmission -- uniuqe veri sayısı:3\n",
      " uniuqe verileri: [nan 'other' 'automatic' 'manual']\n",
      "**********************************************\n",
      "kolon ismi :drive -- uniuqe veri sayısı:3\n",
      " uniuqe verileri: [nan 'rwd' '4wd' 'fwd']\n",
      "**********************************************\n",
      "kolon ismi :type -- uniuqe veri sayısı:13\n",
      " uniuqe verileri: [nan 'pickup' 'truck' 'other' 'coupe' 'SUV' 'hatchback' 'mini-van' 'sedan'\n",
      " 'offroad' 'bus' 'van' 'convertible' 'wagon']\n",
      "**********************************************\n"
     ]
    }
   ],
   "source": [
    "for col in df.columns:\n",
    "    print(f\"kolon ismi :{col} -- uniuqe veri sayısı:{df[col].nunique()}\\n uniuqe verileri: {df[col].unique()}\\n**********************************************\")"
   ]
  },
  {
   "cell_type": "code",
   "execution_count": 13,
   "id": "5ec19c31-e71d-4a52-9fc1-6fddb47af4f4",
   "metadata": {},
   "outputs": [],
   "source": [
    "#Artık df de gereksiz sütun yok şimdi var olan sütunlardaki NaN değerler ile uğraşıcaz."
   ]
  },
  {
   "cell_type": "code",
   "execution_count": 14,
   "id": "358905b7-8548-4e01-bb18-48f4886e7053",
   "metadata": {},
   "outputs": [
    {
     "name": "stdout",
     "output_type": "stream",
     "text": [
      "=== NULL DEĞER ANALİZİ ===\n",
      "\n",
      "price                0\n",
      "year              1205\n",
      "manufacturer     17646\n",
      "condition       174104\n",
      "cylinders       177678\n",
      "fuel              3013\n",
      "odometer          4400\n",
      "title_status      8242\n",
      "transmission      2556\n",
      "drive           130567\n",
      "type             92858\n",
      "dtype: int64\n",
      "\n",
      "=== NULL DEĞER YÜZDELERİ ===\n",
      "\n",
      "price            0.000000\n",
      "year             0.282281\n",
      "manufacturer     4.133714\n",
      "condition       40.785232\n",
      "cylinders       41.622470\n",
      "fuel             0.705819\n",
      "odometer         1.030735\n",
      "title_status     1.930753\n",
      "transmission     0.598763\n",
      "drive           30.586347\n",
      "type            21.752717\n",
      "dtype: float64\n"
     ]
    },
    {
     "data": {
      "image/png": "[encoded data removed]",
      "text/plain": [
       "<Figure size 1200x600 with 1 Axes>"
      ]
     },
     "metadata": {},
     "output_type": "display_data"
    },
    {
     "name": "stdout",
     "output_type": "stream",
     "text": [
      "\n",
      "=== Satır Bazında Null Sayıları ===\n",
      "0     128501\n",
      "1     130084\n",
      "2      79135\n",
      "3      39858\n",
      "4      44569\n",
      "5       3884\n",
      "6         89\n",
      "7        129\n",
      "8        539\n",
      "9         24\n",
      "10        68\n",
      "Name: count, dtype: int64\n"
     ]
    }
   ],
   "source": [
    "print(\"=== NULL DEĞER ANALİZİ ===\\n\")\n",
    "print(df.isnull().sum())\n",
    "print(\"\\n=== NULL DEĞER YÜZDELERİ ===\\n\")\n",
    "print((df.isnull().sum() / len(df)) * 100)\n",
    "\n",
    "\n",
    "plt.figure(figsize=(12, 6))\n",
    "null_percent = (df.isnull().sum() / len(df)) * 100\n",
    "null_percent = null_percent[null_percent > 0].sort_values(ascending=False)\n",
    "null_percent.plot(kind='bar')\n",
    "plt.title('Kolonlardaki Null Değer Yüzdeleri')\n",
    "plt.ylabel('Yüzde (%)')\n",
    "plt.xlabel('Kolonlar')\n",
    "plt.xticks(rotation=45, ha='right')\n",
    "plt.tight_layout()\n",
    "plt.show()\n",
    "\n",
    "print(\"\\n=== Satır Bazında Null Sayıları ===\")\n",
    "print(df.isnull().sum(axis=1).value_counts().sort_index())"
   ]
  },
  {
   "cell_type": "code",
   "execution_count": 15,
   "id": "25fe94cc-94e1-43d5-99b7-407da687d863",
   "metadata": {},
   "outputs": [],
   "source": [
    "df[\"year\"] = df.groupby(\"manufacturer\",dropna=False)[\"year\"].transform(\n",
    "    lambda x: x.fillna(x.median())\n",
    ")"
   ]
  },
  {
   "cell_type": "code",
   "execution_count": 16,
   "id": "6ade9cf6-948d-48d5-b6ff-9eb9e6fccf14",
   "metadata": {},
   "outputs": [],
   "source": [
    "df.dropna(subset=[\"manufacturer\"],inplace=True)"
   ]
  },
  {
   "cell_type": "code",
   "execution_count": 17,
   "id": "2415603b-51eb-43e3-a020-af21434564cf",
   "metadata": {},
   "outputs": [],
   "source": [
    "df[\"condition\"].fillna(\"unknown\",inplace=True)"
   ]
  },
  {
   "cell_type": "code",
   "execution_count": 18,
   "id": "539747a5-cf86-42b5-9cf9-90ff705c6d39",
   "metadata": {},
   "outputs": [],
   "source": [
    "groupbyColumns = [\"cylinders\",\"fuel\",\"transmission\",\"drive\"]\n",
    "\n",
    "for column in groupbyColumns:\n",
    "    df[column] = df.groupby([\"manufacturer\",\"type\"],dropna=False)[column].transform(\n",
    "    lambda x:x.fillna(x.mode()[0]) if not x.mode().empty else x\n",
    " )\n",
    "    df.dropna(subset=[column],inplace=True)"
   ]
  },
  {
   "cell_type": "code",
   "execution_count": 19,
   "id": "8ebbfbc4-4ce6-43a7-868d-2666eb534915",
   "metadata": {},
   "outputs": [],
   "source": [
    "df[\"odometer\"] = df.groupby([\"manufacturer\",\"type\"],dropna=False)[\"odometer\"].transform(\n",
    "    lambda x: x.fillna(x.median()) if x.notna().any() else x\n",
    ")\n",
    "\n",
    "df.dropna(subset=[\"odometer\"],inplace=True)"
   ]
  },
  {
   "cell_type": "code",
   "execution_count": 20,
   "id": "e4aea565-1a08-4d99-897e-da521b0cdf42",
   "metadata": {},
   "outputs": [],
   "source": [
    "df[\"title_status\"].fillna(df[\"title_status\"].mode()[0], inplace=True)"
   ]
  },
  {
   "cell_type": "code",
   "execution_count": 21,
   "id": "9fc2fff0-35e3-4a17-8ef0-6438854ed898",
   "metadata": {},
   "outputs": [
    {
     "name": "stdout",
     "output_type": "stream",
     "text": [
      "=== TYPE DOLDURMA (MODEL BİLGİSİ İLE) ===\n",
      "\n",
      "Başlangıç type null: 86370\n",
      "1️⃣ Model isminden type çıkarılıyor...\n",
      "   Sonrası null: 50063\n",
      "2️⃣ Manufacturer bazlı mode...\n",
      "   Sonrası null: 0\n",
      "3️⃣ Kalan null'lar 'unknown' yapılıyor...\n",
      "   Final null: 0\n",
      "\n",
      "✅ Type doldurma tamamlandı!\n",
      "\n",
      "Type dağılımı:\n",
      "type\n",
      "sedan          117709\n",
      "SUV             90340\n",
      "pickup          74028\n",
      "truck           33492\n",
      "other           21294\n",
      "coupe           20649\n",
      "hatchback       17236\n",
      "van             10720\n",
      "wagon           10545\n",
      "convertible      7152\n",
      "mini-van         4682\n",
      "offroad           571\n",
      "bus               314\n",
      "Name: count, dtype: int64\n"
     ]
    }
   ],
   "source": [
    "def fill_type_from_model_column(df, df_with_model):\n",
    "    \"\"\"\n",
    "    df_with_model'deki model kolonunu kullanarak df'in type kolonunu doldur\n",
    "    \n",
    "    Parameters:\n",
    "    -----------\n",
    "    df : DataFrame\n",
    "        Type'ı doldurulacak DataFrame (model kolonu yok)\n",
    "    df_with_model : DataFrame\n",
    "        Model kolonuna sahip DataFrame\n",
    "        \n",
    "    Returns:\n",
    "    --------\n",
    "    df : DataFrame with filled 'type' column\n",
    "    \"\"\"\n",
    "    print(\"=== TYPE DOLDURMA (MODEL BİLGİSİ İLE) ===\\n\")\n",
    "    \n",
    "    # Model bilgisini geçici ekle\n",
    "    if len(df) == len(df_with_model):\n",
    "        df['model_temp'] = df_with_model['model'].values\n",
    "    else:\n",
    "        # Index bazlı merge\n",
    "        df = df.merge(\n",
    "            df_with_model[['model']], \n",
    "            left_index=True, \n",
    "            right_index=True, \n",
    "            how='left',\n",
    "            suffixes=('', '_temp')\n",
    "        )\n",
    "        if 'model_temp' not in df.columns:\n",
    "            df.rename(columns={'model': 'model_temp'}, inplace=True)\n",
    "    \n",
    "    print(f\"Başlangıç type null: {df['type'].isnull().sum()}\")\n",
    "    \n",
    "    # Extraction fonksiyonu\n",
    "    def extract_type(row):\n",
    "        if pd.notna(row['type']):\n",
    "            return row['type']\n",
    "        \n",
    "        if pd.isna(row['model_temp']):\n",
    "            return None\n",
    "        \n",
    "        model = str(row['model_temp']).lower()\n",
    "        \n",
    "        # Comprehensive keywords\n",
    "        type_keywords = {\n",
    "            'pickup': ['f-150', 'f-250', 'f-350', 'silverado', 'sierra', 'ram', \n",
    "                      'tundra', 'tacoma', 'ranger', 'colorado', 'frontier', 'titan'],\n",
    "            'SUV': ['4runner', 'explorer', 'tahoe', 'suburban', 'highlander', \n",
    "                    'pilot', 'pathfinder', 'expedition', 'durango', 'traverse',\n",
    "                    'cr-v', 'rav4', 'rogue', 'equinox', 'escape'],\n",
    "            'sedan': ['camry', 'accord', 'civic', 'corolla', 'altima', 'sentra',\n",
    "                     'malibu', 'fusion', 'impala', 'optima', 'sonata', 'elantra'],\n",
    "            'coupe': ['mustang', 'camaro', 'corvette', 'challenger', 'charger',\n",
    "                     '370z', '350z', 'miata', 'brz', 'gt-r'],\n",
    "            'van': ['odyssey', 'sienna', 'pacifica', 'caravan', 'quest', 'town'],\n",
    "            'hatchback': ['golf', 'focus', 'fiesta', 'fit', 'yaris', 'prius']\n",
    "        }\n",
    "        \n",
    "        for vehicle_type, keywords in type_keywords.items():\n",
    "            if any(keyword in model for keyword in keywords):\n",
    "                return vehicle_type\n",
    "        \n",
    "        return None\n",
    "    \n",
    "    # Apply\n",
    "    print(\"1️⃣ Model isminden type çıkarılıyor...\")\n",
    "    df['type'] = df.apply(extract_type, axis=1)\n",
    "    print(f\"   Sonrası null: {df['type'].isnull().sum()}\")\n",
    "    \n",
    "    # Manufacturer bazlı mode\n",
    "    print(\"2️⃣ Manufacturer bazlı mode...\")\n",
    "    df['type'] = df.groupby('manufacturer')['type'].transform(\n",
    "        lambda x: x.fillna(x.mode()[0]) if not x.mode().empty and len(x.dropna()) > 0 else x\n",
    "    )\n",
    "    print(f\"   Sonrası null: {df['type'].isnull().sum()}\")\n",
    "    \n",
    "    # Unknown\n",
    "    print(\"3️⃣ Kalan null'lar 'unknown' yapılıyor...\")\n",
    "    df['type'].fillna('unknown', inplace=True)\n",
    "    print(f\"   Final null: {df['type'].isnull().sum()}\")\n",
    "    \n",
    "    # Temizlik\n",
    "    df = df.drop('model_temp', axis=1)\n",
    "    \n",
    "    print(\"\\n✅ Type doldurma tamamlandı!\")\n",
    "    print(\"\\nType dağılımı:\")\n",
    "    print(df['type'].value_counts())\n",
    "    \n",
    "    return df\n",
    "\n",
    "# Kullanım\n",
    "df = fill_type_from_model_column(df, df_clean)"
   ]
  },
  {
   "cell_type": "code",
   "execution_count": 22,
   "id": "39bdcdbc-6c0c-464d-aeb4-844b0b57f783",
   "metadata": {},
   "outputs": [
    {
     "data": {
      "text/plain": [
       "price           0\n",
       "year            0\n",
       "manufacturer    0\n",
       "condition       0\n",
       "cylinders       0\n",
       "fuel            0\n",
       "odometer        0\n",
       "title_status    0\n",
       "transmission    0\n",
       "drive           0\n",
       "type            0\n",
       "dtype: int64"
      ]
     },
     "execution_count": 22,
     "metadata": {},
     "output_type": "execute_result"
    }
   ],
   "source": [
    "df.isna().sum()"
   ]
  },
  {
   "cell_type": "code",
   "execution_count": null,
   "id": "15ce104b-039f-4862-9e9b-db8aed294e20",
   "metadata": {},
   "outputs": [],
   "source": []
  }
 ],
 "metadata": {
  "kernelspec": {
   "display_name": "Python [conda env:base] *",
   "language": "python",
   "name": "conda-base-py"
  },
  "language_info": {
   "codemirror_mode": {
    "name": "ipython",
    "version": 3
   },
   "file_extension": ".py",
   "mimetype": "text/x-python",
   "name": "python",
   "nbconvert_exporter": "python",
   "pygments_lexer": "ipython3",
   "version": "3.13.5"
  },
  "widgets": {
   "application/vnd.jupyter.widget-state+json": {
    "state": {},
    "version_major": 2,
    "version_minor": 0
   }
  }
 },
 "nbformat": 4,
 "nbformat_minor": 5
}
